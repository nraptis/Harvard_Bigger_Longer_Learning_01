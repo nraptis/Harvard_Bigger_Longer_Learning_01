{
 "cells": [
  {
   "cell_type": "code",
   "execution_count": null,
   "metadata": {},
   "outputs": [],
   "source": [
    "def buildGraph():\n",
    "    print(\"a\")\n",
    "    for name in names:\n",
    "        print(name)\n",
    "        person_id = person_id_for_name(name)\n",
    "        print(\"person_id = \", person_id)\n",
    "        person = people[person_id]\n",
    "        print()\n",
    "\n"
   ]
  },
  {
   "cell_type": "code",
   "execution_count": null,
   "metadata": {},
   "outputs": [],
   "source": []
  }
 ],
 "metadata": {
  "language_info": {
   "name": "python"
  }
 },
 "nbformat": 4,
 "nbformat_minor": 2
}
